{
 "cells": [
  {
   "cell_type": "code",
   "execution_count": null,
   "id": "77a8e891",
   "metadata": {},
   "outputs": [],
   "source": [
    "device = torch.device('cuda')\n",
    "torch.autograd.set_detect_anomaly(True)\n",
    "# example dataset\n",
    "dataset_list=[\"Corel5k\",\"bibtex\"]\n",
    "label_counts=[374,159]\n",
    "select_feature=[1,1]\n",
    "for idx,_ in enumerate(dataset_list):\n",
    "    dataname=dataset_list[idx]\n",
    "    featuresampling=select_feature[idx]\n",
    "    labelcount=label_counts[idx]\n",
    "    print(dataname)\n",
    "    path_to_arff_file = f\"/home/tt/{dataname}.arff\"\n",
    "    X, y, feature_names, label_names = load_from_arff(\n",
    "        path_to_arff_file,\n",
    "        label_count=labelcount,\n",
    "        label_location=\"end\",\n",
    "        load_sparse=False,\n",
    "        return_attribute_definitions=True\n",
    "    )\n",
    "    X,feature_names=FeatureSelect(X,featuresampling)  \n",
    "    scaler = MinMaxScaler()\n",
    "    X = scaler.fit_transform(X)\n",
    "    y,label_names=LabelSelect(y)\n",
    "    k_fold = IterativeStratification(n_splits=5,order=1,random_state=42)\n",
    "    params={\n",
    "    \"dataname\": dataname,\n",
    "    \"latent_dim\": 500,\n",
    "    \"fx_h_dim\": 200,\n",
    "    \"fe_h_dim\": 200,\n",
    "    \"fd_h_dim\": 100,\n",
    "    \"epoch\": 200,\n",
    "    \"batch_size\": 128,\n",
    "    \"learningrate\": 1e-4,\n",
    "    \"num_min_labels\":10,\n",
    "    \"samplingrate\":0.1,\n",
    "    \"activate\":\"None\"\n",
    "    }\n",
    "    for i in [2,3,7,8,9]:\n",
    "        training(params,i,X,y)"
   ]
  }
 ],
 "metadata": {
  "kernelspec": {
   "display_name": "Python 3 (ipykernel)",
   "language": "python",
   "name": "python3"
  },
  "language_info": {
   "codemirror_mode": {
    "name": "ipython",
    "version": 3
   },
   "file_extension": ".py",
   "mimetype": "text/x-python",
   "name": "python",
   "nbconvert_exporter": "python",
   "pygments_lexer": "ipython3",
   "version": "3.7.13"
  }
 },
 "nbformat": 4,
 "nbformat_minor": 5
}
